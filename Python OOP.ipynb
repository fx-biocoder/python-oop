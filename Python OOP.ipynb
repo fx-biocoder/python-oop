{
 "cells": [
  {
   "cell_type": "markdown",
   "id": "40d20c1a",
   "metadata": {},
   "source": [
    "# Python: OOP\n",
    "\n",
    "Esta notebook es un resumen de los contenidos presentes en el tutorial de Python de W3Schools, concerniente a Programación Orientada a Objetos. Lo pasé a esta notebook para poder practicar con mayor facilidad los conceptos vistos allí.\n",
    "\n",
    "[Enlace a W3Schools](https://www.w3schools.com/python)"
   ]
  },
  {
   "cell_type": "markdown",
   "id": "46d9ec9e",
   "metadata": {},
   "source": [
    "### 1. Crear una clase"
   ]
  },
  {
   "cell_type": "code",
   "execution_count": null,
   "id": "eec93b0c",
   "metadata": {},
   "outputs": [],
   "source": [
    "class MiClase:\n",
    "    x = 5"
   ]
  },
  {
   "cell_type": "markdown",
   "id": "4b47015f",
   "metadata": {},
   "source": [
    "### 2. Crear objeto"
   ]
  },
  {
   "cell_type": "code",
   "execution_count": null,
   "id": "f0e3a0bd",
   "metadata": {},
   "outputs": [],
   "source": [
    "objeto1 = MiClase()\n",
    "print(objeto1.x)"
   ]
  },
  {
   "cell_type": "markdown",
   "id": "c4973f4a",
   "metadata": {},
   "source": [
    "### 3. Función __init__()\n",
    "\n",
    "La función __init__() asigna valores a propiedades del objeto, u otras operaciones que son necesarias de hacer cuando el objeto es creado"
   ]
  },
  {
   "cell_type": "code",
   "execution_count": null,
   "id": "3f3ec4b1",
   "metadata": {},
   "outputs": [],
   "source": [
    "class Persona:\n",
    "    def __init__(self, nombre, edad):\n",
    "        self.nombre = nombre\n",
    "        self.edad = edad\n",
    "\n",
    "persona1 = Persona(\"Juan\", 36)\n",
    "\n",
    "print(f\"Esta persona se llama {persona1.nombre} y tiene {persona1.edad} años\")"
   ]
  },
  {
   "cell_type": "markdown",
   "id": "13686eba",
   "metadata": {},
   "source": [
    "### 4. Métodos de objetos\n",
    "\n",
    "Los métodos son funciones que pertenecen a un objeto"
   ]
  },
  {
   "cell_type": "code",
   "execution_count": null,
   "id": "755a7ab5",
   "metadata": {},
   "outputs": [],
   "source": [
    "class Persona:\n",
    "    def __init__(self, nombre, edad):\n",
    "        self.nombre = nombre\n",
    "        self.edad = edad\n",
    "    \n",
    "    def presentar(self):\n",
    "        print(f\"Esta persona se llama {self.nombre} y tiene {self.edad} años\")\n",
    "\n",
    "persona1 = Persona(\"Alberto\", 20)\n",
    "\n",
    "persona1.presentar()\n",
    "        "
   ]
  },
  {
   "cell_type": "markdown",
   "id": "892e0e0a",
   "metadata": {},
   "source": [
    "### 5. El parámetro self\n",
    "\n",
    "El parámetro self es una referencia a la instancia actual de la clase, y se usa para acceder a variables que pertenecen a la clase.\n",
    "\n",
    "Por convención se llama self pero se puede llamar de otra forma"
   ]
  },
  {
   "cell_type": "code",
   "execution_count": null,
   "id": "2993877b",
   "metadata": {},
   "outputs": [],
   "source": [
    "class Persona:\n",
    "    def __init__(miobjeto, nombre, edad):\n",
    "        miobjeto.nombre = nombre\n",
    "        miobjeto.edad = edad\n",
    "\n",
    "    def funcion(abc):\n",
    "        print(\"Hola, mi nombre es \" + abc.nombre + \" y tengo \" + str(abc.edad) + \" años.\")\n",
    "\n",
    "p1 = Persona(\"Juan\", 36)\n",
    "p1.funcion()"
   ]
  },
  {
   "cell_type": "markdown",
   "id": "00b611d1",
   "metadata": {},
   "source": [
    "### 6. Modificar propiedades de los objetos\n"
   ]
  },
  {
   "cell_type": "code",
   "execution_count": null,
   "id": "2d2de5c2",
   "metadata": {},
   "outputs": [],
   "source": [
    "persona1.edad = 60"
   ]
  },
  {
   "cell_type": "code",
   "execution_count": null,
   "id": "92c6560c",
   "metadata": {},
   "outputs": [],
   "source": [
    "del persona1.edad # esto borra la propiedad del objeto"
   ]
  },
  {
   "cell_type": "markdown",
   "id": "473b1b8f",
   "metadata": {},
   "source": [
    "### 7. Borrar objeto"
   ]
  },
  {
   "cell_type": "code",
   "execution_count": null,
   "id": "9c84b1f6",
   "metadata": {},
   "outputs": [],
   "source": [
    "del persona1"
   ]
  },
  {
   "cell_type": "code",
   "execution_count": null,
   "id": "e4b813a1",
   "metadata": {},
   "outputs": [],
   "source": [
    "persona1?"
   ]
  },
  {
   "cell_type": "markdown",
   "id": "83d49443",
   "metadata": {},
   "source": [
    "### 8. Sentencia pass\n",
    "\n",
    "Estas sentencias se usan cuando se necesita definir una clase vacía"
   ]
  },
  {
   "cell_type": "code",
   "execution_count": null,
   "id": "a3fd6df1",
   "metadata": {},
   "outputs": [],
   "source": [
    "class Persona:\n",
    "    pass"
   ]
  },
  {
   "cell_type": "code",
   "execution_count": null,
   "id": "429ece74",
   "metadata": {},
   "outputs": [],
   "source": [
    "Persona?"
   ]
  },
  {
   "cell_type": "markdown",
   "id": "bacfe741",
   "metadata": {},
   "source": [
    "## Herencia"
   ]
  },
  {
   "cell_type": "markdown",
   "id": "c30cbcbc",
   "metadata": {},
   "source": [
    "La herencia nos permite definir una clase que hereda todos los métodos y propiedades de otra clase. Una clase padre es la clase a partir de la cual se hereda, tambien llamada clase base. La clase hija es la clase que hereda de otra clase, tambien llamada clase derivada"
   ]
  },
  {
   "cell_type": "markdown",
   "id": "8332b081",
   "metadata": {},
   "source": [
    "### 1. Crear una clase padre"
   ]
  },
  {
   "cell_type": "code",
   "execution_count": null,
   "id": "d4d33e58",
   "metadata": {},
   "outputs": [],
   "source": [
    "class Persona:\n",
    "    def __init__(self, nombre, apellido,edad):\n",
    "        self.nombre = nombre\n",
    "        self.apellido = apellido\n",
    "        self.edad = edad\n",
    "    \n",
    "    def presentar(self):\n",
    "        print(f\"Esta persona se llama {self.nombre} {self.apellido} y tiene {self.edad} años\")\n",
    "        \n",
    "persona1 = Persona(\"Alberto\", \"Camacho\", 47)"
   ]
  },
  {
   "cell_type": "code",
   "execution_count": null,
   "id": "17e00883",
   "metadata": {},
   "outputs": [],
   "source": [
    "persona1.presentar()"
   ]
  },
  {
   "cell_type": "markdown",
   "id": "6c8010b1",
   "metadata": {},
   "source": [
    "### 2. Crear clase hija\n",
    "\n",
    "Esta clase hereda las propiedades y métodos de la clase Persona"
   ]
  },
  {
   "cell_type": "code",
   "execution_count": null,
   "id": "e6051708",
   "metadata": {},
   "outputs": [],
   "source": [
    "class Otro(Persona):\n",
    "    pass"
   ]
  },
  {
   "cell_type": "code",
   "execution_count": null,
   "id": "177c2104",
   "metadata": {},
   "outputs": [],
   "source": [
    "pibe = Otro(\"Julio\", \"Cabrera\", 28)\n",
    "pibe.presentar()"
   ]
  },
  {
   "cell_type": "markdown",
   "id": "0d70ee97",
   "metadata": {},
   "source": [
    "#### 2.1 Agregar función init\n"
   ]
  },
  {
   "cell_type": "code",
   "execution_count": null,
   "id": "7e0817da",
   "metadata": {},
   "outputs": [],
   "source": [
    "class Otro(Persona):\n",
    "    def __init__(self, nombre, apellido, edad):\n",
    "        Persona.__init__(self, nombre, apellido, edad) # Esto hace que se mantenga la herencia"
   ]
  },
  {
   "cell_type": "markdown",
   "id": "91220dcf",
   "metadata": {},
   "source": [
    "#### 2.2 Usar la función super()\n",
    "Hace que la clase herede todos los métodos y propiedades de la clase padre"
   ]
  },
  {
   "cell_type": "code",
   "execution_count": null,
   "id": "7c43ea66",
   "metadata": {},
   "outputs": [],
   "source": [
    "class Otro(Persona):\n",
    "    def __init__(self, nombre, apellido, edad):\n",
    "        super().__init__(nombre, apellido, edad)"
   ]
  },
  {
   "cell_type": "markdown",
   "id": "de5f2d9c",
   "metadata": {},
   "source": [
    "#### 2.3 Agregar propiedades"
   ]
  },
  {
   "cell_type": "code",
   "execution_count": null,
   "id": "35f8b737",
   "metadata": {},
   "outputs": [],
   "source": [
    "class Otro(Persona):\n",
    "    def __init__(self, nombre, apellido, edad):\n",
    "        super().__init__(nombre, apellido, edad)\n",
    "        self.promocion = 2009 # agregado de la propiedad \"promocion\""
   ]
  },
  {
   "cell_type": "markdown",
   "id": "247a39f8",
   "metadata": {},
   "source": [
    "#### 2.4 Agregar métodos"
   ]
  },
  {
   "cell_type": "code",
   "execution_count": null,
   "id": "9482469e",
   "metadata": {},
   "outputs": [],
   "source": [
    "class Otro(Persona):\n",
    "    def __init__(self, nombre, apellido, edad, promocion):\n",
    "        super().__init__(nombre, apellido, edad)\n",
    "        self.promocion = promocion # agregado de la propiedad \"promocion\"\n",
    "    \n",
    "    def graduacion(self):\n",
    "        print(f\"Graduado en el año {self.promocion}\")"
   ]
  },
  {
   "cell_type": "markdown",
   "id": "da537efa",
   "metadata": {},
   "source": [
    "## Iteradores"
   ]
  },
  {
   "cell_type": "markdown",
   "id": "0f9ba60c",
   "metadata": {},
   "source": [
    "Un iterador es un objeto que contiene un número entero de valores. Se puede interar sobre este objeto, lo cual significa que podés atravesar todos sus valores. Técnicamente, un iterador de Python es cualquier objeto que implementa el protocolo de iteración, que consiste en los métodos `__iter__()` y `__next__()`"
   ]
  },
  {
   "cell_type": "markdown",
   "id": "fbd53cd1",
   "metadata": {},
   "source": [
    "### 1. Iterador vs iterable"
   ]
  },
  {
   "cell_type": "markdown",
   "id": "3458362a",
   "metadata": {},
   "source": [
    "Las listas, tuplas, diccionarios y conjuntos son objetos iterables, ya que contienen un método `iter()` el cual es usado para obtener un iterador:"
   ]
  },
  {
   "cell_type": "code",
   "execution_count": null,
   "id": "5e9c7766",
   "metadata": {},
   "outputs": [],
   "source": [
    "mi_tupla = ('manzanas', 'bananas', 'peras')\n",
    "mi_iterador = iter(mi_tupla)\n",
    "\n",
    "print(next(mi_iterador))\n",
    "print(next(mi_iterador))\n",
    "print(next(mi_iterador))"
   ]
  },
  {
   "cell_type": "markdown",
   "id": "1079f23b",
   "metadata": {},
   "source": [
    "Los strings también son objetos iterables, los cuales contienen una secuencia de caracteres:"
   ]
  },
  {
   "cell_type": "code",
   "execution_count": null,
   "id": "f04d729d",
   "metadata": {},
   "outputs": [],
   "source": [
    "mi_string = 'banana'\n",
    "mi_iterador = iter(mi_string)\n",
    "\n",
    "print(next(mi_iterador))\n",
    "print(next(mi_iterador))\n",
    "print(next(mi_iterador))\n",
    "print(next(mi_iterador))\n",
    "print(next(mi_iterador))\n",
    "print(next(mi_iterador))"
   ]
  },
  {
   "cell_type": "markdown",
   "id": "beb35640",
   "metadata": {},
   "source": [
    "### 2. Usar bucles en iteradores"
   ]
  },
  {
   "cell_type": "code",
   "execution_count": null,
   "id": "ab1de987",
   "metadata": {},
   "outputs": [],
   "source": [
    "mi_tupla = ('manzanas', 'bananas', 'peras')\n",
    "mi_string = 'banana'\n",
    "\n",
    "for x in mi_tupla:\n",
    "    print(x)\n",
    "\n",
    "for x in mi_string:\n",
    "    print(x)"
   ]
  },
  {
   "cell_type": "markdown",
   "id": "e66caa19",
   "metadata": {},
   "source": [
    "### 3. Crear un iterador\n",
    "\n",
    "Crear un iterador que regresa números, empezando por el 1, e incrementa el valor retornado en 1:"
   ]
  },
  {
   "cell_type": "code",
   "execution_count": null,
   "id": "fb0fceea",
   "metadata": {},
   "outputs": [],
   "source": [
    "class Numero:\n",
    "    def __iter__(self):\n",
    "        self.numero = 1\n",
    "        return self\n",
    "    \n",
    "    def __next__(self):\n",
    "        x = self.numero\n",
    "        self.numero += 1\n",
    "        return x\n",
    "\n",
    "objeto = Numero()\n",
    "iterador = iter(objeto)\n",
    "\n",
    "print(next(iterador))\n",
    "print(next(iterador))\n",
    "print(next(iterador))"
   ]
  },
  {
   "cell_type": "markdown",
   "id": "55098cee",
   "metadata": {},
   "source": [
    "###  4. Detener la iteración (StopIteration)\n",
    "\n",
    "Para evitar que la iteración suceda de forma indefinida, se puede usar la sentencia `StopIteration`. En el método `__next__()` podemos agregar una condición que genera una excepción en el caso de que la iteración se haya realizado un cierto número de veces."
   ]
  },
  {
   "cell_type": "code",
   "execution_count": null,
   "id": "6d931858",
   "metadata": {},
   "outputs": [],
   "source": [
    "class Numero:\n",
    "    def __iter__(self):\n",
    "        self.numero = 1\n",
    "        return self\n",
    "    \n",
    "    def __next__(self):\n",
    "        if self.numero <= 5:\n",
    "            x = self.numero\n",
    "            self.numero += 1\n",
    "            return x\n",
    "        else:\n",
    "            raise StopIteration\n",
    "            \n",
    "objeto = Numero()\n",
    "iterador = iter(objeto)\n",
    "\n",
    "for x in iterador:\n",
    "    print(x)"
   ]
  },
  {
   "cell_type": "markdown",
   "id": "47270515",
   "metadata": {},
   "source": [
    "## Polimorfismo\n",
    "\n",
    "La palabra \"polimorfismo\" significa \"muchas formas\", y en programación refiere a métodos/funciones/operadores con el mismo nombre que pueden ser ejecutados en muchos objetos o clases\n",
    "\n",
    "### 1. Polimorfismo de funciones"
   ]
  },
  {
   "cell_type": "code",
   "execution_count": null,
   "id": "28ceb561",
   "metadata": {},
   "outputs": [],
   "source": [
    "# Función len() en strings\n",
    "x = 'Hola mundo!'\n",
    "print(len(x))\n",
    "\n",
    "# Función len() en tuplas\n",
    "tupla = ('manzanas', 'bananas', 'peras')\n",
    "print(len(tupla))\n",
    "\n",
    "# Función len() en diccionarios\n",
    "diccionario = {\n",
    "    'clave1': 'valor1',\n",
    "    'clave2': 'valor2',\n",
    "    'clave3': 'valor3'\n",
    "}\n",
    "print(len(diccionario))"
   ]
  },
  {
   "cell_type": "markdown",
   "id": "8055ecc3",
   "metadata": {},
   "source": [
    "### 2. Polimorfismo en herencia de clases"
   ]
  },
  {
   "cell_type": "code",
   "execution_count": null,
   "id": "7c4d403a",
   "metadata": {},
   "outputs": [],
   "source": [
    "class Vehiculo:\n",
    "    def __init__(self, marca, modelo):\n",
    "        self.marca = marca\n",
    "        self.modelo = modelo\n",
    "        \n",
    "    def avanzar(self):\n",
    "        print(\"El vehículo avanza\")\n",
    "\n",
    "class Auto(Vehiculo):\n",
    "    pass\n",
    "\n",
    "class Bote(Vehiculo):\n",
    "    def avanzar(self):\n",
    "        print(\"El bote navega\")\n",
    "\n",
    "class Avion(Vehiculo):\n",
    "    def avanzar(self):\n",
    "        print(\"El avión vuela\")\n",
    "\n",
    "auto = Auto(\"Renault\", \"Megane\")\n",
    "bote = Bote(\"Ibiza\", \"Touring 20\")\n",
    "avion = Avion(\"Lockheed Martin\", \"F-22\")\n",
    "\n",
    "for x in (auto, bote, avion):\n",
    "    print(x.marca)\n",
    "    print(x.modelo)\n",
    "    x.avanzar()"
   ]
  },
  {
   "cell_type": "code",
   "execution_count": null,
   "id": "7ef1a67f",
   "metadata": {},
   "outputs": [],
   "source": []
  }
 ],
 "metadata": {
  "kernelspec": {
   "display_name": "Python 3 (ipykernel)",
   "language": "python",
   "name": "python3"
  },
  "language_info": {
   "codemirror_mode": {
    "name": "ipython",
    "version": 3
   },
   "file_extension": ".py",
   "mimetype": "text/x-python",
   "name": "python",
   "nbconvert_exporter": "python",
   "pygments_lexer": "ipython3",
   "version": "3.9.7"
  }
 },
 "nbformat": 4,
 "nbformat_minor": 5
}
